{
 "cells": [
  {
   "cell_type": "code",
   "execution_count": 3,
   "id": "59cd4c71",
   "metadata": {},
   "outputs": [],
   "source": [
    "import torch\n",
    "import torch.nn as nn\n",
    "import pandas as pd"
   ]
  },
  {
   "cell_type": "markdown",
   "id": "32c90d93",
   "metadata": {},
   "source": [
    "# 读取excel"
   ]
  },
  {
   "cell_type": "code",
   "execution_count": 4,
   "id": "96d6b18a",
   "metadata": {},
   "outputs": [],
   "source": [
    "root_path = r\"D:/dataset/eye/Train/Train.csv\""
   ]
  },
  {
   "cell_type": "code",
   "execution_count": 12,
   "id": "8a50ddc1",
   "metadata": {
    "code_folding": []
   },
   "outputs": [],
   "source": [
    "data_key =[ \"Impression\", \"HyperF_Type\", \"HyperF_Area(DA)\", \"HyperF_Fovea\", \"HyperF_ExtraFovea\", \"HyperF_Y\", \n",
    "  \"HypoF_Type\" ,\"HypoF_Area(DA)\",\"HypoF_Fovea\", \"HypoF_ExtraFovea\"\n",
    ",\"HypoF_Y\",\"CNV\",\"Vascular abnormality (DR)\",\"Pattern\",\"ID\",\"Folder\"]"
   ]
  },
  {
   "cell_type": "code",
   "execution_count": 8,
   "id": "ae66636b",
   "metadata": {},
   "outputs": [],
   "source": [
    "data_source = pd.read_csv(root_path)"
   ]
  },
  {
   "cell_type": "code",
   "execution_count": 19,
   "id": "0e0be0f2",
   "metadata": {},
   "outputs": [
    {
     "data": {
      "text/plain": [
       "{'macular neovascularization': 618,\n",
       " 'dry age-related macular degeneration': 208,\n",
       " 'cystoid macular edema': 13,\n",
       " 'unremarkable changes': 451,\n",
       " 'central serous chorioretinopathy': 160,\n",
       " 'pachychoroid pigment epitheliopathy': 43,\n",
       " 'other': 7,\n",
       " 'retinal pigment epithelial detachment': 64,\n",
       " 'uveitis': 91,\n",
       " 'chorioretinal scar': 68,\n",
       " 'central serous chorioretinopathy,': 20,\n",
       " 'choroidal mass': 12,\n",
       " 'diabetic retinopathy': 63,\n",
       " 'cystoid macular edema,uveitis': 1,\n",
       " 'myopia': 7,\n",
       " 'chorioretinal atrophy': 23,\n",
       " 'branch retinal vein occlusion': 3,\n",
       " 'uveitis,retinal vein occlusion': 1,\n",
       " 'retinal vein occlusion': 9,\n",
       " 'epiretinal membrane,': 8,\n",
       " 'choroidal mass,macular neovascularization': 1,\n",
       " 'diabetic retinopathy,macular neovascularization': 1,\n",
       " 'macular neovascularization,myopia': 5,\n",
       " 'chorioretinal scar,chorioretinal scar': 2,\n",
       " 'proliferative diabetic retinopathy': 5,\n",
       " 'central serous chorioretinopathy,proliferative diabetic retinopathy': 1,\n",
       " 'central retinal vein occlusion': 2,\n",
       " 'uveitis,central retinal artery occlusion': 1,\n",
       " 'macular neovascularization,polypoidal choroidal vasculopathy': 49,\n",
       " 'retinal arterial macroaneurysm': 7,\n",
       " 'diabetic retinopathy,central serous chorioretinopathy': 2,\n",
       " 'other,other': 1,\n",
       " 'retinal dystrophy': 4,\n",
       " 'myopia,dry age-related macular degeneration': 1,\n",
       " 'chorioretinal scar,diabetic retinopathy': 2,\n",
       " 'macular neovascularization,diabetic retinopathy': 1,\n",
       " 'chorioretinal scar,myopia': 2,\n",
       " 'macular neovascularization,branch retinal vein occlusion': 1,\n",
       " 'retinal pigment epithelial detachment,': 1,\n",
       " 'epiretinal membrane': 2,\n",
       " 'myopia,chorioretinal atrophy': 3}"
      ]
     },
     "execution_count": 19,
     "metadata": {},
     "output_type": "execute_result"
    }
   ],
   "source": [
    "impress_type = {}\n",
    "for i in data_source[data_key[0]]:\n",
    "    if i not in impress_type:\n",
    "        impress_type[i] = 1\n",
    "    else:\n",
    "        impress_type[i] += 1\n",
    "impress_type"
   ]
  },
  {
   "cell_type": "code",
   "execution_count": 24,
   "id": "1179caa5",
   "metadata": {},
   "outputs": [
    {
     "data": {
      "text/plain": [
       "('HyperF_Type',\n",
       " {'leakage': 771,\n",
       "  'staining': 370,\n",
       "  'no': 490,\n",
       "  'pooling': 205,\n",
       "  'window defect': 128})"
      ]
     },
     "execution_count": 24,
     "metadata": {},
     "output_type": "execute_result"
    }
   ],
   "source": [
    "impress_type = {}\n",
    "for i in data_source[data_key[1]]:\n",
    "    if i not in impress_type:\n",
    "        impress_type[i] = 1\n",
    "    else:\n",
    "        impress_type[i] += 1\n",
    "data_key[1],impress_type"
   ]
  },
  {
   "cell_type": "code",
   "execution_count": 25,
   "id": "9fa567ba",
   "metadata": {},
   "outputs": [
    {
     "data": {
      "text/plain": [
       "('HyperF_Type', {'4': 1215, '5': 259, 'no': 490})"
      ]
     },
     "execution_count": 25,
     "metadata": {},
     "output_type": "execute_result"
    }
   ],
   "source": [
    "impress_type = {}\n",
    "for i in data_source[data_key[2]]:\n",
    "    if i not in impress_type:\n",
    "        impress_type[i] = 1\n",
    "    else:\n",
    "        impress_type[i] += 1\n",
    "data_key[1], impress_type"
   ]
  },
  {
   "cell_type": "code",
   "execution_count": 26,
   "id": "6cdd915f",
   "metadata": {},
   "outputs": [
    {
     "data": {
      "text/plain": [
       "('HyperF_Type', {'yes': 934, 'no': 1030})"
      ]
     },
     "execution_count": 26,
     "metadata": {},
     "output_type": "execute_result"
    }
   ],
   "source": [
    "impress_type = {}\n",
    "for i in data_source[data_key[3]]:\n",
    "    if i not in impress_type:\n",
    "        impress_type[i] = 1\n",
    "    else:\n",
    "        impress_type[i] += 1\n",
    "data_key[1], impress_type"
   ]
  },
  {
   "cell_type": "code",
   "execution_count": 27,
   "id": "fd5e91e1",
   "metadata": {},
   "outputs": [
    {
     "data": {
      "text/plain": [
       "('HyperF_Type',\n",
       " {'no': 1149,\n",
       "  'nasal': 54,\n",
       "  'superior': 96,\n",
       "  'superior nasal': 65,\n",
       "  'temporal': 76,\n",
       "  'inferior nasal': 41,\n",
       "  'superior temporal': 76,\n",
       "  'inferior temporal': 43,\n",
       "  'superior,superior nasal,inferior': 2,\n",
       "  'inferior': 41,\n",
       "  'inferior,superior': 3,\n",
       "  'superior,inferior,temporal,nasal': 1,\n",
       "  'inferior,superior,nasal,temporal': 2,\n",
       "  'superotemporal': 1,\n",
       "  'superior,inferior': 19,\n",
       "  'diffuse': 114,\n",
       "  'temporal,nasal': 3,\n",
       "  'nasal,inferior': 6,\n",
       "  'nasal,superior': 5,\n",
       "  'superior,temporal,nasal,inferior': 1,\n",
       "  'temporal,inferior': 5,\n",
       "  'nasal,inferior temporal': 2,\n",
       "  'superior,nasal': 7,\n",
       "  'superior,temporal': 3,\n",
       "  'superior,inferior nasal': 1,\n",
       "  'temporal,inferior temporal': 5,\n",
       "  'inferior,temporal': 3,\n",
       "  'nasal,inferior nasal': 2,\n",
       "  'superior nasal,superior': 3,\n",
       "  'superior nasal,inferior temporal': 4,\n",
       "  'superior nasal,inferior nasal': 2,\n",
       "  'superior temporal,inferior temporal': 6,\n",
       "  'superior nasal,superior,superior temporal': 2,\n",
       "  'superior nasal,nasal,inferior,temporal': 1,\n",
       "  'inferior,inferior temporal': 3,\n",
       "  'superior,superior temporal,inferior temporal': 1,\n",
       "  'disc,diffuse': 14,\n",
       "  'superior,superior nasal': 1,\n",
       "  'inferior to disc,inferior to disc,inferior nasal': 1,\n",
       "  'inferior nasal,inferior,inferior temporal': 1,\n",
       "  'superior to disc,temporal': 1,\n",
       "  'superior to disc': 3,\n",
       "  'inferior nasal,temporal': 1,\n",
       "  'disc': 13,\n",
       "  'superior,nasal,inferior,temporal to disc': 2,\n",
       "  'superior nasal,inferior nasal,temporal': 1,\n",
       "  'disc,nasal,temporal': 1,\n",
       "  'nasal,disc': 3,\n",
       "  'temporal,inferior temporal,inferior': 2,\n",
       "  'nasal,inferior,inferior temporal': 1,\n",
       "  'superior nasal,nasal': 2,\n",
       "  'superior nasal,inferior,nasal to disc': 1,\n",
       "  'disc,nasal': 1,\n",
       "  'nasal,superior to disc': 1,\n",
       "  'superior temporal,superior nasal,inferior temporal': 1,\n",
       "  'superior nasal,nasal to disc': 1,\n",
       "  'inferior,nasal,temporal to disc': 1,\n",
       "  'periphery': 2,\n",
       "  'superior nasal,inferior': 4,\n",
       "  'inferior nasal,inferior': 1,\n",
       "  'venular,diffuse': 2,\n",
       "  'inferior,nasal,temporal,superior': 5,\n",
       "  'superior nasal,superior to disc': 1,\n",
       "  'superior temporal,temporal': 1,\n",
       "  'superior temporal,inferior nasal': 3,\n",
       "  'superior,inferior,nasal,temporal': 3,\n",
       "  'inferior to disc': 1,\n",
       "  'superior,inferior,nasal': 1,\n",
       "  'superior,nasal,temporal,inferior': 5,\n",
       "  'superior nasal,superior temporal': 1,\n",
       "  'inferior nasal,inferior temporal': 3,\n",
       "  'superior,disc': 1,\n",
       "  'temporal,disc': 1,\n",
       "  'inferior temporal,superior': 1,\n",
       "  'diffuse,disc': 4,\n",
       "  'nasal to disc': 2,\n",
       "  'superior nasal,superior temporal,inferior': 1,\n",
       "  'inferior nasal,superior temporal': 1,\n",
       "  'superior,nasal,inferior,temporal': 1,\n",
       "  'inferior temporal,temporal,superior temporal': 2,\n",
       "  'superior,inferior,temporal,superior temporal': 1,\n",
       "  'nasal,superior nasal': 2,\n",
       "  'disc,superior temporal': 1,\n",
       "  'nasal,superior temporal': 2,\n",
       "  'superior,temporal,inferior nasal': 1,\n",
       "  'superior temporal,disc': 1,\n",
       "  'nasal,temporal': 2,\n",
       "  'superior nasal,inferior nasal,disc': 1,\n",
       "  'nasal,inferior,temporal': 1,\n",
       "  'superior nasal,temporal,inferior': 1,\n",
       "  'temporal,superior nasal': 1,\n",
       "  'inferior,disc': 1,\n",
       "  'inferior nasal,disc': 1})"
      ]
     },
     "execution_count": 27,
     "metadata": {},
     "output_type": "execute_result"
    }
   ],
   "source": [
    "impress_type = {}\n",
    "for i in data_source[data_key[4]]:\n",
    "    if i not in impress_type:\n",
    "        impress_type[i] = 1\n",
    "    else:\n",
    "        impress_type[i] += 1\n",
    "data_key[1], impress_type"
   ]
  },
  {
   "cell_type": "code",
   "execution_count": null,
   "id": "9e76e103",
   "metadata": {},
   "outputs": [],
   "source": []
  },
  {
   "cell_type": "code",
   "execution_count": 10,
   "id": "e69f0073",
   "metadata": {
    "code_folding": [
     0
    ],
    "collapsed": true
   },
   "outputs": [
    {
     "name": "stdout",
     "output_type": "stream",
     "text": [
      "Impression\n",
      "HyperF_Type\n",
      "HyperF_Area(DA)\n",
      "HyperF_Fovea\n",
      "HyperF_ExtraFovea\n",
      "HyperF_Y\n",
      "HypoF_Type\n",
      "HypoF_Area(DA)\n",
      "HypoF_Fovea\n",
      "HypoF_ExtraFovea\n",
      "HypoF_Y\n",
      "CNV\n",
      "Vascular abnormality (DR)\n",
      "Pattern\n",
      "ID\n",
      "Folder\n"
     ]
    }
   ],
   "source": [
    "for key in data_source.keys():\n",
    "    print(key)"
   ]
  },
  {
   "cell_type": "code",
   "execution_count": 2,
   "id": "51da1194",
   "metadata": {},
   "outputs": [],
   "source": [
    "\n",
    "from torch.utils.data import Dataset\n",
    "\n",
    "class DataLoad(Dataset):\n",
    "    def __init__(self, root_path) -> None:\n",
    "        self.load_data(root_path)\n",
    "    \n",
    "    def load_data(self, root_path):\n",
    "        self.data = []\n",
    "\n",
    "    def __len__(self):\n",
    "        return len(self.data)\n",
    "\n",
    "    def __getitem__(self, index):\n",
    "        return self.data[index]\n"
   ]
  },
  {
   "cell_type": "code",
   "execution_count": null,
   "id": "541996cc",
   "metadata": {},
   "outputs": [],
   "source": []
  }
 ],
 "metadata": {
  "kernelspec": {
   "display_name": "pytorch",
   "language": "python",
   "name": "pytorch"
  },
  "language_info": {
   "codemirror_mode": {
    "name": "ipython",
    "version": 3
   },
   "file_extension": ".py",
   "mimetype": "text/x-python",
   "name": "python",
   "nbconvert_exporter": "python",
   "pygments_lexer": "ipython3",
   "version": "3.8.16"
  },
  "toc": {
   "base_numbering": 1,
   "nav_menu": {},
   "number_sections": true,
   "sideBar": true,
   "skip_h1_title": false,
   "title_cell": "Table of Contents",
   "title_sidebar": "Contents",
   "toc_cell": false,
   "toc_position": {},
   "toc_section_display": true,
   "toc_window_display": false
  }
 },
 "nbformat": 4,
 "nbformat_minor": 5
}
